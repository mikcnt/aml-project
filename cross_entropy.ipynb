{
 "cells": [
  {
   "cell_type": "code",
   "execution_count": 7,
   "metadata": {},
   "outputs": [],
   "source": [
    "import torch\n",
    "import numpy as np\n",
    "import sklearn.neighbors as nn"
   ]
  },
  {
   "cell_type": "code",
   "execution_count": 2,
   "metadata": {},
   "outputs": [],
   "source": [
    "input_ab = torch.load('input_ab.pt')\n",
    "output_ab = torch.load('output_ab.pt')"
   ]
  },
  {
   "cell_type": "code",
   "execution_count": 3,
   "metadata": {},
   "outputs": [],
   "source": [
    "inputs = [x for _,x in enumerate(input_ab)]\n",
    "outputs = [x for _,x in enumerate(output_ab)]"
   ]
  },
  {
   "cell_type": "code",
   "execution_count": 23,
   "metadata": {},
   "outputs": [
    {
     "data": {
      "text/plain": [
       "(313, 224, 224)"
      ]
     },
     "execution_count": 23,
     "metadata": {},
     "output_type": "execute_result"
    }
   ],
   "source": [
    "# image distribution of probabilities\n",
    "z_pred = outputs[0].detach().cpu().numpy()\n",
    "z_pred.shape"
   ]
  },
  {
   "cell_type": "code",
   "execution_count": 24,
   "metadata": {},
   "outputs": [
    {
     "data": {
      "text/plain": [
       "(2, 224, 224)"
      ]
     },
     "execution_count": 24,
     "metadata": {},
     "output_type": "execute_result"
    }
   ],
   "source": [
    "# image true ab channel\n",
    "z_true = inputs[0].detach().cpu().numpy()*255-128\n",
    "z_true.shape"
   ]
  },
  {
   "cell_type": "markdown",
   "metadata": {},
   "source": [
    "$w = \\bigg((1-\\lambda)\\tilde{p} + \\frac{\\lambda}{Q}\\bigg)^{-1}$\n",
    "$E[w] = \\sum_q \\tilde{p}_q w_q = 1$"
   ]
  },
  {
   "cell_type": "code",
   "execution_count": 164,
   "metadata": {},
   "outputs": [],
   "source": [
    "lambda_ = 0.5\n",
    "p_tilde = np.load('prior_prob.npy')\n",
    "q_stars = smoothed_normalized.argmax(axis=1)\n",
    "w = 1/(lambda_ * p_tilde + lambda_/q)\n",
    "\n",
    "# normalizing s.t. E[w] = 1\n",
    "total = p_tilde @ w\n",
    "p_tilde = p_tilde / total\n",
    "\n",
    "# rebalancing weighting term\n",
    "weight = w[q_stars]"
   ]
  },
  {
   "cell_type": "markdown",
   "metadata": {},
   "source": [
    "$L_{cl}(\\hat{Z},Z) = - \\sum_{h,w} v(Z_{h,w}) \\sum_q Z_{h,w,q} \\log(\\hat{Z}_{h,w,q})$"
   ]
  },
  {
   "cell_type": "code",
   "execution_count": 269,
   "metadata": {},
   "outputs": [],
   "source": [
    "eps = 1e-5\n",
    "z_pred_shifted = z_pred - z_pred.min(axis=0)\n",
    "z_pred_shifted = z_pred_shifted + eps\n",
    "z_pred_shifted = z_pred_shifted / z_pred_shifted.sum(axis=0)\n",
    "z_pred_shifted = z_pred_shifted.reshape(-1, q)\n",
    "v = (smoothed_normalized * np.log(z_pred_shifted)).sum(axis=1)\n",
    "v = - v * weight\n",
    "v.sum()"
   ]
  },
  {
   "cell_type": "code",
   "execution_count": 278,
   "metadata": {},
   "outputs": [],
   "source": []
  },
  {
   "cell_type": "code",
   "execution_count": 281,
   "metadata": {},
   "outputs": [
    {
     "data": {
      "text/plain": [
       "62528038.38574886"
      ]
     },
     "execution_count": 281,
     "metadata": {},
     "output_type": "execute_result"
    }
   ],
   "source": []
  },
  {
   "cell_type": "code",
   "execution_count": null,
   "metadata": {},
   "outputs": [],
   "source": []
  }
 ],
 "metadata": {
  "kernelspec": {
   "display_name": "Python 3",
   "language": "python",
   "name": "python3"
  },
  "language_info": {
   "codemirror_mode": {
    "name": "ipython",
    "version": 3
   },
   "file_extension": ".py",
   "mimetype": "text/x-python",
   "name": "python",
   "nbconvert_exporter": "python",
   "pygments_lexer": "ipython3",
   "version": "3.7.2"
  }
 },
 "nbformat": 4,
 "nbformat_minor": 2
}
