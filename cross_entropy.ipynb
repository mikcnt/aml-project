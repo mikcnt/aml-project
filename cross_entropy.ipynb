{
 "cells": [
  {
   "cell_type": "code",
   "execution_count": 1,
   "metadata": {},
   "outputs": [],
   "source": [
    "import torch\n",
    "import numpy as np\n",
    "import sklearn.neighbors as nn"
   ]
  },
  {
   "cell_type": "code",
   "execution_count": 2,
   "metadata": {},
   "outputs": [],
   "source": [
    "input_ab = torch.load('input_ab.pt')\n",
    "output_ab = torch.load('output_ab.pt')\n",
    "inputs = [x for _,x in enumerate(input_ab)]\n",
    "outputs = [x for _,x in enumerate(output_ab)]\n",
    "# image distribution of probabilities\n",
    "z_pred = outputs[0].detach().cpu().numpy()\n",
    "z_pred.shape\n",
    "# image true ab channel\n",
    "z_true = inputs[0].detach().cpu().numpy()*255-128\n",
    "z_true.shape"
   ]
  },
  {
   "cell_type": "markdown",
   "metadata": {},
   "source": [
    "$w = \\bigg((1-\\lambda)\\tilde{p} + \\frac{\\lambda}{Q}\\bigg)^{-1}$\n",
    "$E[w] = \\sum_q \\tilde{p}_q w_q = 1$"
   ]
  },
  {
   "cell_type": "code",
   "execution_count": 164,
   "metadata": {},
   "outputs": [],
   "source": [
    "lambda_ = 0.5\n",
    "p_tilde = np.load('prior_prob.npy')\n",
    "q_stars = smoothed_normalized.argmax(axis=1)\n",
    "w = 1/(lambda_ * p_tilde + lambda_/q)\n",
    "\n",
    "# normalizing s.t. E[w] = 1\n",
    "total = p_tilde @ w\n",
    "p_tilde = p_tilde / total\n",
    "\n",
    "# rebalancing weighting term\n",
    "weight = w[q_stars]"
   ]
  },
  {
   "cell_type": "markdown",
   "metadata": {},
   "source": [
    "$L_{cl}(\\hat{Z},Z) = - \\sum_{h,w} v(Z_{h,w}) \\sum_q Z_{h,w,q} \\log(\\hat{Z}_{h,w,q})$"
   ]
  },
  {
   "cell_type": "code",
   "execution_count": 269,
   "metadata": {},
   "outputs": [],
   "source": [
    "eps = 1e-5\n",
    "z_pred_shifted = z_pred - z_pred.min(axis=0)\n",
    "z_pred_shifted = z_pred_shifted + eps\n",
    "z_pred_shifted = z_pred_shifted / z_pred_shifted.sum(axis=0)\n",
    "z_pred_shifted = z_pred_shifted.reshape(-1, q)\n",
    "v = (smoothed_normalized * np.log(z_pred_shifted)).sum(axis=1)\n",
    "v = - v * weight\n",
    "v.sum()"
   ]
  },
  {
   "cell_type": "code",
   "execution_count": 16,
   "metadata": {},
   "outputs": [],
   "source": [
    "pts_hull = np.load('data/pts_in_hull.npy')\n",
    "image_ab = z_true\n",
    "q = 313\n",
    "sigma = 5"
   ]
  },
  {
   "cell_type": "code",
   "execution_count": 38,
   "metadata": {},
   "outputs": [],
   "source": [
    "nearest = nn.NearestNeighbors(n_neighbors=5, algorithm='ball_tree')\n",
    "nearest.fit(pts_hull)\n",
    "\n",
    "# flattened array of shape (224*224, 2)\n",
    "image_a = z_true[0, :, :].ravel()\n",
    "image_b = z_true[1, :, :].ravel()\n",
    "image_ab = np.vstack((image_a, image_b)).T\n",
    "\n",
    "# distances and indices of the 5 nearest neighbour of the true image ab channel\n",
    "dists, ind = nearest.kneighbors(image_ab)"
   ]
  },
  {
   "cell_type": "code",
   "execution_count": 51,
   "metadata": {},
   "outputs": [],
   "source": [
    "wts = np.exp(- dists ** 2) / (2 * sigma**2)\n",
    "wts = wts / np.sum(wts, axis=1)[:, np.newaxis]\n",
    "z_soft_encoding = np.zeros((image_ab.shape[0], q))"
   ]
  },
  {
   "cell_type": "code",
   "execution_count": 52,
   "metadata": {},
   "outputs": [],
   "source": [
    "idx_pts = np.arange(image_ab.shape[0])[:, np.newaxis]\n",
    "z_soft_encoding[idx_pts, ind] = wts"
   ]
  },
  {
   "cell_type": "code",
   "execution_count": 77,
   "metadata": {},
   "outputs": [],
   "source": [
    "p_tilde = np.load('data/prior_prob_smoothed.npy')\n",
    "\n",
    "from utils import *\n",
    "\n",
    "mc = MultimodalClassification()\n",
    "smoothed_normalized = mc.compute_smoothed(z_true)\n",
    "q_star = smoothed_normalized.argmax(axis=1)"
   ]
  },
  {
   "cell_type": "code",
   "execution_count": null,
   "metadata": {},
   "outputs": [],
   "source": []
  },
  {
   "cell_type": "code",
   "execution_count": null,
   "metadata": {},
   "outputs": [],
   "source": []
  }
 ],
 "metadata": {
  "kernelspec": {
   "display_name": "Python 3",
   "language": "python",
   "name": "python3"
  },
  "language_info": {
   "codemirror_mode": {
    "name": "ipython",
    "version": 3
   },
   "file_extension": ".py",
   "mimetype": "text/x-python",
   "name": "python",
   "nbconvert_exporter": "python",
   "pygments_lexer": "ipython3",
   "version": "3.7.2"
  }
 },
 "nbformat": 4,
 "nbformat_minor": 2
}
